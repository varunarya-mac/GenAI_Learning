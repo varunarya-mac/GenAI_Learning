{
 "cells": [
  {
   "cell_type": "code",
   "execution_count": null,
   "metadata": {},
   "outputs": [],
   "source": [
    "## Stemming: \n",
    "It is process to find out simlar kind of word in group by removing the suffix or prefix of array.\n",
    "\n",
    "e.g. \n",
    "\n",
    "words = ['Gone', 'Hi', 'Going', 'Goes', 'hello'];\n",
    "\n",
    "In this above array, Go is the stem word for 'Gone','Going','Goes'\n",
    "\n",
    "DRAWBACKS: \n",
    "\n",
    "It is not always accurate. some times we get wrong stem word.\n",
    "\n",
    "e.g\n",
    "\n",
    "fairly -> fairli\n",
    "\n",
    "There are many Stemmer class in NLTK lib.\n",
    "1. Porter stemmer \n",
    "2. RegexpStemmer  (it is for regular expression)\n",
    "3. Snowball Stemmer (it provide better result compare to Porte Stemmer)"
   ]
  },
  {
   "cell_type": "markdown",
   "metadata": {},
   "source": []
  },
  {
   "cell_type": "code",
   "execution_count": null,
   "metadata": {},
   "outputs": [],
   "source": [
    "from nltk.stem import PorterStemmer\n",
    "\n",
    "words = ['run', 'runner', 'running', 'ran', 'runs', 'easily', 'fairly', 'fairness', 'generous', 'generation', 'generously', 'history', 'historical', 'historian', 'history', 'histories']\n",
    "stemming = PorterStemmer()\n",
    "for word in words:\n",
    "    print(word + ' -> ' + stemming.stem(word))\n",
    "    "
   ]
  },
  {
   "cell_type": "code",
   "execution_count": null,
   "metadata": {},
   "outputs": [],
   "source": [
    "from nltk.stem import RegexpStemmer\n",
    "# it will remove the suffixes (ing , s, ly , ness, ed) from the word that match the regular expression\n",
    "reg = RegexpStemmer('ing$ | s$ | ly$ | ness$ | ed$', min=4)\n",
    "for word in words:\n",
    "    print(word + ' -> ' + reg.stem(word))"
   ]
  }
 ],
 "metadata": {
  "kernelspec": {
   "display_name": "venv",
   "language": "python",
   "name": "python3"
  },
  "language_info": {
   "codemirror_mode": {
    "name": "ipython",
    "version": 3
   },
   "file_extension": ".py",
   "mimetype": "text/x-python",
   "name": "python",
   "nbconvert_exporter": "python",
   "pygments_lexer": "ipython3",
   "version": "3.12.5"
  }
 },
 "nbformat": 4,
 "nbformat_minor": 2
}
